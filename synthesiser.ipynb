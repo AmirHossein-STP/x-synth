{
 "cells": [
  {
   "cell_type": "code",
   "execution_count": 2,
   "metadata": {},
   "outputs": [
    {
     "name": "stdout",
     "output_type": "stream",
     "text": [
      "complete left to right loaded as keyboard layout successfully.\n"
     ]
    }
   ],
   "source": [
    "# init\n",
    "from os import path\n",
    "import numpy as np\n",
    "from pynput import keyboard\n",
    "from pedalboard import Pedalboard, Chorus, Reverb, HighpassFilter\n",
    "from pedalboard.io import AudioFile\n",
    "import music21\n",
    "from keyboard_layout import KeyboardLayout\n",
    "from tone import Tone\n",
    "from audio_player import AudioPlayer\n",
    "from time_going import Timeline\n",
    "\n",
    "smplRate = 44100\n",
    "\n",
    "board = Pedalboard([Chorus(), Reverb(room_size=0.25),HighpassFilter(5000)])\n",
    "\n",
    "keyboard_layout = KeyboardLayout()\n",
    "keyboard_layout.load('complete left to right')\n"
   ]
  },
  {
   "cell_type": "code",
   "execution_count": 12,
   "metadata": {},
   "outputs": [],
   "source": [
    "e = 2\n",
    "harmonics = [(i,i/2) for i in range(2,20)]\n",
    "tonemaker_1 = Tone(harmonics = harmonics, fade_duration = 0.06)\n",
    "\n",
    "def scaling_1(point, base):\n",
    "    return 40 * np.power(base,point/12)\n",
    "\n",
    "def scaling_2(point):\n",
    "    scale = [2,2,1,3,1,2,1]\n",
    "    result = 1\n",
    "    for i in range(point):\n",
    "        result += scale[i%len(scale)]\n",
    "    return result\n",
    "\n",
    "def final_scaling(x):\n",
    "    return scaling_1(scaling_2(x),2)\n",
    "\n"
   ]
  },
  {
   "cell_type": "code",
   "execution_count": 4,
   "metadata": {},
   "outputs": [],
   "source": [
    "timeline = Timeline(IS_LOOPED = False)"
   ]
  },
  {
   "cell_type": "markdown",
   "metadata": {},
   "source": []
  },
  {
   "cell_type": "code",
   "execution_count": 5,
   "metadata": {},
   "outputs": [],
   "source": [
    "audioplayer = AudioPlayer(timeline,board)\n",
    "audioplayer.start()"
   ]
  },
  {
   "cell_type": "code",
   "execution_count": 6,
   "metadata": {},
   "outputs": [
    {
     "name": "stdout",
     "output_type": "stream",
     "text": [
      "started...\n"
     ]
    },
    {
     "name": "stderr",
     "output_type": "stream",
     "text": [
      "This process is not trusted! Input event monitoring will not be possible until it is added to accessibility clients.\n"
     ]
    },
    {
     "name": "stdout",
     "output_type": "stream",
     "text": [
      "stoped.\n"
     ]
    }
   ],
   "source": [
    "keyboard_layout.start(final_scaling, audioplayer, tonemaker_1, timeline)"
   ]
  },
  {
   "cell_type": "code",
   "execution_count": 14,
   "metadata": {},
   "outputs": [],
   "source": [
    "import time\n",
    "score = music21.corpus.parse('bach/bwv65.2.xml')\n",
    "# score.show()\n",
    "key = score.analyze('key')\n",
    "tonicPitchClass = key.tonic.pitchClass\n",
    "scoreChordify = score.chordify()\n",
    "scoreChordsFlat = scoreChordify.flatten()\n",
    "chords = scoreChordsFlat.getElementsByClass('Chord')\n",
    "\n",
    "itr = 1.9\n",
    "for chord in chords:\n",
    "    tonemaker_1.harmonics = [(np.power(itr,np.log2(i)),np.power(itr,np.log2(i))) for i in range(2,20)]\n",
    "    itr = itr + 0.005\n",
    "    \n",
    "    position = audioplayer.position\n",
    "\n",
    "    for p in chord.pitches:\n",
    "        fundamental = scaling_1(p.midi-30,itr)\n",
    "        tone = tonemaker_1.make(fundamental)/10\n",
    "        timeline.add(tone, position)\n",
    "    time.sleep(chord.duration.quarterLength/2)\n",
    "    \n",
    "    # i.key = k\n",
    "\n",
    "\n",
    "    # rootPitchClass = chord.root().pitchClass\n",
    "    # diff = rootPitchClass - tonicPitchClass\n",
    "    # if(diff < 0):\n",
    "    #     diff += (11+1)\n",
    "    # print(diff)\n",
    "\n",
    "\n",
    "# print(s.metadata.all())"
   ]
  },
  {
   "cell_type": "code",
   "execution_count": 8,
   "metadata": {},
   "outputs": [],
   "source": [
    "# closing audio in case of emergency\n",
    "audioplayer.stop()"
   ]
  },
  {
   "cell_type": "code",
   "execution_count": 15,
   "metadata": {},
   "outputs": [],
   "source": [
    "timeline.clear()"
   ]
  },
  {
   "cell_type": "code",
   "execution_count": 24,
   "metadata": {},
   "outputs": [
    {
     "name": "stdout",
     "output_type": "stream",
     "text": [
      "mandarvordi saved as timeline successfully.\n"
     ]
    }
   ],
   "source": [
    "timeline.save()"
   ]
  },
  {
   "cell_type": "code",
   "execution_count": 7,
   "metadata": {},
   "outputs": [
    {
     "name": "stdout",
     "output_type": "stream",
     "text": [
      "mandarvordi loaded as timeline successfually.\n"
     ]
    }
   ],
   "source": [
    "timeline.load()"
   ]
  },
  {
   "attachments": {},
   "cell_type": "markdown",
   "metadata": {},
   "source": []
  },
  {
   "attachments": {},
   "cell_type": "markdown",
   "metadata": {},
   "source": []
  }
 ],
 "metadata": {
  "kernelspec": {
   "display_name": "env",
   "language": "python",
   "name": "python3"
  },
  "language_info": {
   "codemirror_mode": {
    "name": "ipython",
    "version": 3
   },
   "file_extension": ".py",
   "mimetype": "text/x-python",
   "name": "python",
   "nbconvert_exporter": "python",
   "pygments_lexer": "ipython3",
   "version": "3.11.2"
  },
  "orig_nbformat": 4
 },
 "nbformat": 4,
 "nbformat_minor": 2
}
