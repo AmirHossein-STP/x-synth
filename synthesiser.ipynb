{
 "cells": [
  {
   "cell_type": "code",
   "execution_count": 1,
   "metadata": {},
   "outputs": [
    {
     "name": "stdout",
     "output_type": "stream",
     "text": [
      "complete left to right loaded as keyboard layout successfully.\n"
     ]
    }
   ],
   "source": [
    "# init\n",
    "from os import path\n",
    "import numpy as np\n",
    "from pynput import keyboard\n",
    "from pedalboard import Pedalboard, Chorus, Reverb, LowpassFilter, load_plugin\n",
    "from pedalboard.io import AudioFile\n",
    "import music21\n",
    "from keyboard_layout import KeyboardLayout\n",
    "from tone import Tone\n",
    "from audio_player import AudioPlayer\n",
    "from time_going import Timeline\n",
    "from tone import ADSRTone\n",
    "\n",
    "smplRate = 44100\n",
    "\n",
    "keyboard_layout = KeyboardLayout()\n",
    "keyboard_layout.load('complete left to right')\n"
   ]
  },
  {
   "cell_type": "code",
   "execution_count": 2,
   "metadata": {},
   "outputs": [],
   "source": [
    "def scaling_1(point, base):\n",
    "    return (250-100*base) * np.power(base,point/12)\n",
    "\n",
    "def scaling_1p(point):\n",
    "    return 100 * np.power(2,point/31)\n",
    "\n",
    "def scaling_2(point):\n",
    "    scale = [2,2,1,3,1,2,1]\n",
    "    result = 1\n",
    "    for i in range(point):\n",
    "        result += scale[i%len(scale)]\n",
    "    return result\n",
    "\n",
    "def final_scaling(x):\n",
    "    return scaling_1(scaling_2(x),2)\n",
    "\n"
   ]
  },
  {
   "cell_type": "code",
   "execution_count": 2,
   "metadata": {},
   "outputs": [],
   "source": [
    "timeline = Timeline(IS_LOOPED = False)"
   ]
  },
  {
   "cell_type": "code",
   "execution_count": 3,
   "metadata": {},
   "outputs": [
    {
     "name": "stdout",
     "output_type": "stream",
     "text": [
      "Unexpected exception formatting exception. Falling back to standard exception\n"
     ]
    },
    {
     "name": "stderr",
     "output_type": "stream",
     "text": [
      "Traceback (most recent call last):\n",
      "  File \"/Users/stp/projects/music_making/x-synth/env/lib/python3.11/site-packages/IPython/core/interactiveshell.py\", line 3505, in run_code\n",
      "    exec(code_obj, self.user_global_ns, self.user_ns)\n",
      "  File \"/var/folders/y6/f4__f8jx1dv9fmvknc147z5w0000gn/T/ipykernel_18313/2072212295.py\", line 1, in <module>\n",
      "    effect = load_plugin(\"/Library/Audio/Plug-Ins/VST3/ValhallaDelay.vst3\")\n",
      "             ^^^^^^^^^^^^^^^^^^^^^^^^^^^^^^^^^^^^^^^^^^^^^^^^^^^^^^^^^^^^^^\n",
      "  File \"/Users/stp/projects/music_making/x-synth/env/lib/python3.11/site-packages/pedalboard/_pedalboard.py\", line 801, in load_plugin\n",
      "    return plugin_class(  # type: ignore\n",
      "           ^^^^^^^^^^^^^^^^^^^^^^^^^^^^^\n",
      "  File \"/Users/stp/projects/music_making/x-synth/env/lib/python3.11/site-packages/pedalboard/_pedalboard.py\", line 706, in __init__\n",
      "    self.__set_initial_parameter_values__(parameter_values)\n",
      "  File \"/Users/stp/projects/music_making/x-synth/env/lib/python3.11/site-packages/pedalboard/_pedalboard.py\", line 578, in __set_initial_parameter_values__\n",
      "    parameters = self.parameters\n",
      "                 ^^^^^^^^^^^^^^^\n",
      "  File \"/Users/stp/projects/music_making/x-synth/env/lib/python3.11/site-packages/pedalboard/_pedalboard.py\", line 592, in parameters\n",
      "    return ReadOnlyDictWrapper(self._get_parameters())\n",
      "                               ^^^^^^^^^^^^^^^^^^^^^^\n",
      "  File \"/Users/stp/projects/music_making/x-synth/env/lib/python3.11/site-packages/pedalboard/_pedalboard.py\", line 605, in _get_parameters\n",
      "    self.__python_parameter_cache__[cpp_parameter.name] = AudioProcessorParameter(\n",
      "                                                          ^^^^^^^^^^^^^^^^^^^^^^^^\n",
      "  File \"/Users/stp/projects/music_making/x-synth/env/lib/python3.11/site-packages/pedalboard/_pedalboard.py\", line -1, in __init__\n",
      "KeyboardInterrupt\n",
      "\n",
      "During handling of the above exception, another exception occurred:\n",
      "\n",
      "Traceback (most recent call last):\n",
      "  File \"/Users/stp/projects/music_making/x-synth/env/lib/python3.11/site-packages/IPython/core/interactiveshell.py\", line 2102, in showtraceback\n",
      "    stb = self.InteractiveTB.structured_traceback(\n",
      "          ^^^^^^^^^^^^^^^^^^^^^^^^^^^^^^^^^^^^^^^^\n",
      "  File \"/Users/stp/projects/music_making/x-synth/env/lib/python3.11/site-packages/IPython/core/ultratb.py\", line 1310, in structured_traceback\n",
      "    return FormattedTB.structured_traceback(\n",
      "           ^^^^^^^^^^^^^^^^^^^^^^^^^^^^^^^^^\n",
      "  File \"/Users/stp/projects/music_making/x-synth/env/lib/python3.11/site-packages/IPython/core/ultratb.py\", line 1199, in structured_traceback\n",
      "    return VerboseTB.structured_traceback(\n",
      "           ^^^^^^^^^^^^^^^^^^^^^^^^^^^^^^^\n",
      "  File \"/Users/stp/projects/music_making/x-synth/env/lib/python3.11/site-packages/IPython/core/ultratb.py\", line 1052, in structured_traceback\n",
      "    formatted_exception = self.format_exception_as_a_whole(etype, evalue, etb, number_of_lines_of_context,\n",
      "                          ^^^^^^^^^^^^^^^^^^^^^^^^^^^^^^^^^^^^^^^^^^^^^^^^^^^^^^^^^^^^^^^^^^^^^^^^^^^^^^^^\n",
      "  File \"/Users/stp/projects/music_making/x-synth/env/lib/python3.11/site-packages/IPython/core/ultratb.py\", line 978, in format_exception_as_a_whole\n",
      "    frames.append(self.format_record(record))\n",
      "                  ^^^^^^^^^^^^^^^^^^^^^^^^^^\n",
      "  File \"/Users/stp/projects/music_making/x-synth/env/lib/python3.11/site-packages/IPython/core/ultratb.py\", line 878, in format_record\n",
      "    frame_info.lines, Colors, self.has_colors, lvals\n",
      "    ^^^^^^^^^^^^^^^^\n",
      "  File \"/Users/stp/projects/music_making/x-synth/env/lib/python3.11/site-packages/IPython/core/ultratb.py\", line 712, in lines\n",
      "    return self._sd.lines\n",
      "           ^^^^^^^^^^^^^^\n",
      "  File \"/Users/stp/projects/music_making/x-synth/env/lib/python3.11/site-packages/stack_data/utils.py\", line 144, in cached_property_wrapper\n",
      "    value = obj.__dict__[self.func.__name__] = self.func(obj)\n",
      "                                               ^^^^^^^^^^^^^^\n",
      "  File \"/Users/stp/projects/music_making/x-synth/env/lib/python3.11/site-packages/stack_data/core.py\", line 734, in lines\n",
      "    pieces = self.included_pieces\n",
      "             ^^^^^^^^^^^^^^^^^^^^\n",
      "  File \"/Users/stp/projects/music_making/x-synth/env/lib/python3.11/site-packages/stack_data/utils.py\", line 144, in cached_property_wrapper\n",
      "    value = obj.__dict__[self.func.__name__] = self.func(obj)\n",
      "                                               ^^^^^^^^^^^^^^\n",
      "  File \"/Users/stp/projects/music_making/x-synth/env/lib/python3.11/site-packages/stack_data/core.py\", line 681, in included_pieces\n",
      "    pos = scope_pieces.index(self.executing_piece)\n",
      "                             ^^^^^^^^^^^^^^^^^^^^\n",
      "  File \"/Users/stp/projects/music_making/x-synth/env/lib/python3.11/site-packages/stack_data/utils.py\", line 144, in cached_property_wrapper\n",
      "    value = obj.__dict__[self.func.__name__] = self.func(obj)\n",
      "                                               ^^^^^^^^^^^^^^\n",
      "  File \"/Users/stp/projects/music_making/x-synth/env/lib/python3.11/site-packages/stack_data/core.py\", line 660, in executing_piece\n",
      "    return only(\n",
      "           ^^^^^\n",
      "  File \"/Users/stp/projects/music_making/x-synth/env/lib/python3.11/site-packages/executing/executing.py\", line 190, in only\n",
      "    raise NotOneValueFound('Expected one value, found 0')\n",
      "executing.executing.NotOneValueFound: Expected one value, found 0\n"
     ]
    }
   ],
   "source": [
    "effect = load_plugin(\"/Library/Audio/Plug-Ins/VST3/ValhallaDelay.vst3\")\n",
    "print(effect.parameters.keys())\n"
   ]
  },
  {
   "cell_type": "code",
   "execution_count": 5,
   "metadata": {},
   "outputs": [
    {
     "name": "stdout",
     "output_type": "stream",
     "text": [
      "{'mix': <pedalboard.AudioProcessorParameter name=\"Mix\" discrete raw_value=0.5 value=50.0 % range=(0.0, 100.0, 0.1)>, 'delaystyle': <pedalboard.AudioProcessorParameter name=\"DelayStyle\" discrete raw_value=0 value=\"Single\" (5 valid string values)>, 'delaylsync': <pedalboard.AudioProcessorParameter name=\"DelayLSync\" discrete raw_value=0.25 value=\"Msec\" (4 valid string values)>, 'delaylnote': <pedalboard.AudioProcessorParameter name=\"DelayLNote\" discrete raw_value=0.2 value=\"1/16\" (10 valid string values)>, 'delayl_ms': <pedalboard.AudioProcessorParameter name=\"DelayL_Ms\" discrete raw_value=0.0833333 value=83.3 ms range=(0.0, 20000.0, ~62.58888888888888)>, 'delayrsync': <pedalboard.AudioProcessorParameter name=\"DelayRSync\" discrete raw_value=0.25 value=\"Msec\" (4 valid string values)>, 'delayrnote': <pedalboard.AudioProcessorParameter name=\"DelayRNote\" discrete raw_value=0.2 value=\"1/16\" (10 valid string values)>, 'delayr_ms': <pedalboard.AudioProcessorParameter name=\"DelayR_Ms\" discrete raw_value=0.0833333 value=83.3 ms range=(0.0, 20000.0, ~62.58888888888888)>, 'delayspread': <pedalboard.AudioProcessorParameter name=\"DelaySpread\" discrete raw_value=0.5 value=0.0 ms range=(-20.0, 20.0, ~0.05)>, 'delayspacing': <pedalboard.AudioProcessorParameter name=\"DelaySpacing\" discrete raw_value=0.5 value=0.0 % range=(-100.0, 100.0, 0.2)>, 'delayratio': <pedalboard.AudioProcessorParameter name=\"DelayRatio\" discrete raw_value=0.614141 value=61.8 % range=(1.0, 100.0, 0.1)>, 'repeatswell': <pedalboard.AudioProcessorParameter name=\"RepeatSwell\" discrete raw_value=1 value=\"Swell\" (2 valid string values)>, 'tapa': <pedalboard.AudioProcessorParameter name=\"TapA\" discrete raw_value=1 value=On boolean (\"False\" and \"True\")>, 'tapb': <pedalboard.AudioProcessorParameter name=\"TapB\" discrete raw_value=1 value=On boolean (\"False\" and \"True\")>, 'tapc': <pedalboard.AudioProcessorParameter name=\"TapC\" discrete raw_value=1 value=On boolean (\"False\" and \"True\")>, 'tapd': <pedalboard.AudioProcessorParameter name=\"TapD\" discrete raw_value=1 value=On boolean (\"False\" and \"True\")>, 'feedback': <pedalboard.AudioProcessorParameter name=\"Feedback\" discrete raw_value=0.35 value=70.0 % range=(0.0, 200.0, 0.2)>, 'width': <pedalboard.AudioProcessorParameter name=\"Width\" discrete raw_value=1 value=100.0 % range=(-100.0, 100.0, 0.2)>, 'drivein': <pedalboard.AudioProcessorParameter name=\"DriveIn\" discrete raw_value=0 value=0.0 dB range=(0.0, 24.0, 0.1)>, 'age': <pedalboard.AudioProcessorParameter name=\"Age\" discrete raw_value=0.5 value=50.0 % range=(0.0, 100.0, 0.1)>, 'diffusion': <pedalboard.AudioProcessorParameter name=\"Diffusion\" discrete raw_value=0 value=\"OFF\" (1001 valid string values)>, 'diffsize': <pedalboard.AudioProcessorParameter name=\"DiffSize\" discrete raw_value=1 value=100.0 % range=(0.0, 100.0, 0.1)>, 'lowcut': <pedalboard.AudioProcessorParameter name=\"LowCut\" discrete raw_value=0 value=10 Hz range=(10.0, 2000.0, 10.0)>, 'highcut': <pedalboard.AudioProcessorParameter name=\"HighCut\" discrete raw_value=1 value=20000 Hz range=(200.0, 20000.0, ~15.0)>, 'modrate': <pedalboard.AudioProcessorParameter name=\"ModRate\" discrete raw_value=0.273834 value=0.50 Hz range=(0.01, 10.0, ~0.02)>, 'moddepth': <pedalboard.AudioProcessorParameter name=\"ModDepth\" discrete raw_value=0.5 value=50.0 % range=(0.0, 100.0, 0.1)>, 'wow': <pedalboard.AudioProcessorParameter name=\"Wow\" discrete raw_value=0.5 value=50.0 % range=(0.0, 100.0, 0.1)>, 'flutter': <pedalboard.AudioProcessorParameter name=\"Flutter\" discrete raw_value=0.5 value=50.0 % range=(0.0, 100.0, 0.1)>, 'freqshift': <pedalboard.AudioProcessorParameter name=\"FreqShift\" discrete raw_value=0.5 value=0.0 Hz range=(-1000.0, 1000.0, ~4.8806122448979625)>, 'freqdetune': <pedalboard.AudioProcessorParameter name=\"FreqDetune\" discrete raw_value=0.58 value=0.10 Hz range=(-10.0, 10.0, ~0.024999999999999998)>, 'pitchshift': <pedalboard.AudioProcessorParameter name=\"PitchShift\" discrete raw_value=0.5 value=\"0.00 semi\" (1001 valid string values)>, 'pitchdetune': <pedalboard.AudioProcessorParameter name=\"PitchDetune\" discrete raw_value=0.5 value=\"0.0 cents\" (1001 valid string values)>, 'mode': <pedalboard.AudioProcessorParameter name=\"Mode\" discrete raw_value=0.0416667 value=\"Tape\" (15 valid string values)>, 'era': <pedalboard.AudioProcessorParameter name=\"Era\" discrete raw_value=0.333333 value=\"Past\" (3 valid string values)>, 'ducking': <pedalboard.AudioProcessorParameter name=\"Ducking\" discrete raw_value=0 value=0.0 % range=(0.0, 100.0, 0.1)>, 'reserved2': <pedalboard.AudioProcessorParameter name=\"Reserved2\" discrete raw_value=0 value=0.0 % range=(0.0, 1.0, 0.1)>, 'reserved3': <pedalboard.AudioProcessorParameter name=\"Reserved3\" discrete raw_value=0 value=0.0 range=(0.0, 1.0, 0.1)>, 'reserved4': <pedalboard.AudioProcessorParameter name=\"Reserved4\" discrete raw_value=0 value=0.0 range=(0.0, 1.0, 0.1)>, 'bypass': <pedalboard.AudioProcessorParameter name=\"Bypass\" discrete raw_value=0 value=Off boolean (\"False\" and \"True\")>}\n"
     ]
    }
   ],
   "source": [
    "print(effect.parameters)"
   ]
  },
  {
   "cell_type": "code",
   "execution_count": 7,
   "metadata": {},
   "outputs": [],
   "source": [
    "# effect.bypass = True\n",
    "# board = Pedalboard([Chorus(), Reverb(room_size=0.25), LowpassFilter(300)])\n",
    "# board = Pedalboard([effect])\n",
    "board = Pedalboard([ Reverb(room_size=0.25)])\n",
    "audioplayer = AudioPlayer(timeline,board)\n",
    "audioplayer.start()"
   ]
  },
  {
   "cell_type": "code",
   "execution_count": 8,
   "metadata": {},
   "outputs": [
    {
     "name": "stdout",
     "output_type": "stream",
     "text": [
      "started...\n"
     ]
    },
    {
     "name": "stderr",
     "output_type": "stream",
     "text": [
      "This process is not trusted! Input event monitoring will not be possible until it is added to accessibility clients.\n"
     ]
    },
    {
     "name": "stdout",
     "output_type": "stream",
     "text": [
      "stoped.\n"
     ]
    }
   ],
   "source": [
    "import time\n",
    "e = 2\n",
    "rng = np.random.default_rng()\n",
    "modifier = rng.random(18)>0.5\n",
    "# harmonics = [(np.power(e,np.log2(i)),np.power(e,np.log2(i))) for i in range(2,20)]\n",
    "harmonics = np.array([(np.power(e,np.log2(i)),np.power(e,np.log2(i))) for i in range(2,20)])\n",
    "harmonics[:,0] = harmonics[:,0]+modifier*10000\n",
    "harmonics[:,1] = harmonics[:,1]+modifier*10000\n",
    "\n",
    "\n",
    "def scaling_1k(point):\n",
    "    return 100 * np.power(e,point/10)\n",
    "def scaling_2k(point):\n",
    "    scale = [2,2,1,2,2,2,1]\n",
    "    result = 1\n",
    "    for i in range(point):\n",
    "        result += scale[i%len(scale)]\n",
    "\n",
    "    return result\n",
    "def scaling_k(point):\n",
    "    \n",
    "    return scaling_1k(scaling_2k(point))\n",
    "# tonemaker_1 = Tone(harmonics = harmonics, fade_duration = 0.06)\n",
    "keyboard_layout.start(scaling_1k, harmonics, timeline)\n",
    "\n",
    "# while True:\n",
    "#     e = 2\n",
    "#     rng = np.random.default_rng()\n",
    "#     modifier = rng.random(18)>0.5\n",
    "#     # harmonics = [(np.power(e,np.log2(i)),np.power(e,np.log2(i))) for i in range(2,20)]\n",
    "#     harmonics = np.array([(np.power(e,np.log2(i)),np.power(e,np.log2(i))) for i in range(2,20)])\n",
    "#     harmonics[:,0] = harmonics[:,0]+modifier*10000\n",
    "#     harmonics[:,1] = harmonics[:,1]+modifier*10000\n",
    "#     keyboard_layout.harmonics = harmonics\n",
    "#     # print(keyboard_layout.harmonics)\n",
    "#     time.sleep(1)"
   ]
  },
  {
   "cell_type": "code",
   "execution_count": 6,
   "metadata": {},
   "outputs": [],
   "source": [
    "# closing audio in case of emergency\n",
    "audioplayer.stop()"
   ]
  },
  {
   "cell_type": "code",
   "execution_count": 7,
   "metadata": {},
   "outputs": [],
   "source": [
    "timeline.clear()"
   ]
  },
  {
   "cell_type": "code",
   "execution_count": null,
   "metadata": {},
   "outputs": [],
   "source": [
    "timeline.save()"
   ]
  },
  {
   "cell_type": "code",
   "execution_count": null,
   "metadata": {},
   "outputs": [],
   "source": [
    "timeline.load()"
   ]
  }
 ],
 "metadata": {
  "kernelspec": {
   "display_name": "env",
   "language": "python",
   "name": "python3"
  },
  "language_info": {
   "codemirror_mode": {
    "name": "ipython",
    "version": 3
   },
   "file_extension": ".py",
   "mimetype": "text/x-python",
   "name": "python",
   "nbconvert_exporter": "python",
   "pygments_lexer": "ipython3",
   "version": "3.11.2"
  },
  "orig_nbformat": 4
 },
 "nbformat": 4,
 "nbformat_minor": 2
}
