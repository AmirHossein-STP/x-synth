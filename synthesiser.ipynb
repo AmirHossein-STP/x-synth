{
 "cells": [
  {
   "cell_type": "code",
   "execution_count": 1,
   "metadata": {},
   "outputs": [
    {
     "name": "stdout",
     "output_type": "stream",
     "text": [
      "complete left to right loaded as keyboard layout successfully.\n"
     ]
    }
   ],
   "source": [
    "# init\n",
    "from os import path\n",
    "import numpy as np\n",
    "from pynput import keyboard\n",
    "from pedalboard import Pedalboard, Chorus, Reverb\n",
    "from pedalboard.io import AudioFile\n",
    "from keyboard_layout import KeyboardLayout\n",
    "from tone import Tone\n",
    "\n",
    "smplRate = 44100\n",
    "\n",
    "IS_LOOPED = False\n",
    "timeline_duration = 2\n",
    "timeline = np.zeros(timeline_duration * smplRate, dtype = np.float32)\n",
    "\n",
    "\n",
    "board = Pedalboard([Chorus(), Reverb(room_size=0.25)])\n",
    "\n",
    "keyboard_layout = KeyboardLayout()\n",
    "keyboard_layout.load('complete left to right')\n",
    "\n"
   ]
  },
  {
   "cell_type": "code",
   "execution_count": 4,
   "metadata": {},
   "outputs": [],
   "source": [
    "tonemaker_1 = Tone(harmonics = [(2,2),(2.4,2.2),(2.7,2.6),(3.3,3),(4,4)])\n",
    "def scaling_1(point):\n",
    "    return 40 * 2**(point/12)\n",
    "def scaling_2(point):\n",
    "    scale = [2,2,1,2,2,2,1]\n",
    "    result = 1\n",
    "    for i in range(point):\n",
    "        result += scale[i%len(scale)]\n",
    "    return result"
   ]
  },
  {
   "cell_type": "code",
   "execution_count": 8,
   "metadata": {},
   "outputs": [
    {
     "name": "stdout",
     "output_type": "stream",
     "text": [
      "started...\n"
     ]
    },
    {
     "name": "stderr",
     "output_type": "stream",
     "text": [
      "This process is not trusted! Input event monitoring will not be possible until it is added to accessibility clients.\n"
     ]
    },
    {
     "name": "stdout",
     "output_type": "stream",
     "text": [
      "stoped.\n"
     ]
    }
   ],
   "source": [
    "# open audio\n",
    "import pyaudio\n",
    "\n",
    "position = 0\n",
    "\n",
    "def callback(in_data, frame_count, time_info, status):\n",
    "    # If len(data) is less than requested frame_count, PyAudio automatically\n",
    "    # assumes the stream is finished, and the stream stops.\n",
    "    global position\n",
    "    if timeline.size >= (position + frame_count):\n",
    "        data = timeline[position:position+frame_count].copy()\n",
    "        if not IS_LOOPED:\n",
    "            timeline[position:position+frame_count] = 0\n",
    "        position += frame_count\n",
    "    else:\n",
    "        data = timeline[position:].copy()\n",
    "        if not IS_LOOPED:\n",
    "            timeline[position:] = 0\n",
    "        position += frame_count\n",
    "        position -= timeline.size\n",
    "        data = np.append(data, timeline[:position])\n",
    "        if not IS_LOOPED:\n",
    "            timeline[:position] = 0\n",
    "            \n",
    "    data = board.process(data,smplRate,reset = False)\n",
    "    return (data, pyaudio.paContinue)\n",
    "\n",
    "paud = pyaudio.PyAudio()\n",
    "stream = paud.open(\n",
    "            format=pyaudio.paFloat32,\n",
    "            channels=1,\n",
    "            rate=smplRate,\n",
    "            output=True,\n",
    "            stream_callback=callback\n",
    "            )\n",
    "\n",
    "\n",
    "\n",
    "# listen to keyboard\n",
    "streams = []\n",
    "def on_press(key):\n",
    "    try:\n",
    "        fundamental = scaling_1(scaling_2(keyboard_layout.value.index(key.char)))\n",
    "    except AttributeError:\n",
    "        # print('special key {0} pressed'.format(\n",
    "        #     key))\n",
    "        return\n",
    "    global position\n",
    "    tone = tonemaker_1.make(fundamental)/10\n",
    "    data_size = tone.size\n",
    "    if timeline.size >= (position + data_size):\n",
    "        timeline[position:position+data_size] += tone\n",
    "    else:\n",
    "        tone.size - timeline.size\n",
    "        timeline[position:] += tone[:timeline.size-position]\n",
    "        timeline[:position+tone.size-timeline.size] += tone[timeline.size-position:]\n",
    "    \n",
    "def on_release(key):\n",
    "    if key == keyboard.Key.esc:\n",
    "        # Stop listener\n",
    "        stream.close()\n",
    "        paud.terminate()\n",
    "        print(\"stoped.\")\n",
    "        return False\n",
    "\n",
    "# Collect events until released\n",
    "# with keyboard.Listener(\n",
    "#         on_press=on_press,\n",
    "#         on_release=on_release) as listener:\n",
    "#     listener.join()\n",
    "\n",
    "# ...or, in a non-blocking fashion:\n",
    "listener = keyboard.Listener(\n",
    "    on_press=on_press,\n",
    "    on_release=on_release)\n",
    "listener.start()\n",
    "print(\"started...\")"
   ]
  },
  {
   "cell_type": "code",
   "execution_count": 6,
   "metadata": {},
   "outputs": [],
   "source": [
    "# closing audio in case of emergency\n",
    "stream.close()\n",
    "paud.terminate()"
   ]
  },
  {
   "cell_type": "code",
   "execution_count": 7,
   "metadata": {},
   "outputs": [],
   "source": [
    "# clear timline\n",
    "timeline = np.zeros(timeline_duration * smplRate, dtype = np.float32)"
   ]
  },
  {
   "cell_type": "code",
   "execution_count": 11,
   "metadata": {},
   "outputs": [
    {
     "name": "stdout",
     "output_type": "stream",
     "text": [
      "didn't save.\n"
     ]
    }
   ],
   "source": [
    "#save timeline\n",
    "new_file_name = input('enter your new timeline name')\n",
    "if not new_file_name:\n",
    "    print(\"didn't save.\")\n",
    "else:\n",
    "    file_address = path.join('database/saved_sounds/' , new_file_name + '.npy')\n",
    "    with open(file_address,'wb') as file:\n",
    "        np.save(file,timeline)\n",
    "        print(new_file_name + \" saved as timeline successfully.\")\n"
   ]
  },
  {
   "attachments": {},
   "cell_type": "markdown",
   "metadata": {},
   "source": []
  }
 ],
 "metadata": {
  "kernelspec": {
   "display_name": "env",
   "language": "python",
   "name": "python3"
  },
  "language_info": {
   "codemirror_mode": {
    "name": "ipython",
    "version": 3
   },
   "file_extension": ".py",
   "mimetype": "text/x-python",
   "name": "python",
   "nbconvert_exporter": "python",
   "pygments_lexer": "ipython3",
   "version": "3.11.2"
  },
  "orig_nbformat": 4
 },
 "nbformat": 4,
 "nbformat_minor": 2
}
