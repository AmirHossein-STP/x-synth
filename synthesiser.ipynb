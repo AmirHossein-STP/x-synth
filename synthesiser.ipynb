{
 "cells": [
  {
   "cell_type": "code",
   "execution_count": 23,
   "metadata": {},
   "outputs": [],
   "source": [
    "# init\n",
    "\n",
    "import numpy as np\n",
    "\n",
    "smplRate = 44100\n",
    "timeline_duration = 2\n",
    "timeline = np.zeros(timeline_duration * smplRate, dtype = np.float32)"
   ]
  },
  {
   "cell_type": "code",
   "execution_count": 24,
   "metadata": {},
   "outputs": [],
   "source": [
    "# make tone\n",
    "\n",
    "t0 = .0\n",
    "duration = 0.2\n",
    "t = np.array( range( int(t0*smplRate) , int((t0+duration)*smplRate) ) , dtype=\"float\") / smplRate\n",
    "t2p = t * 2 * np.pi\n",
    "\n",
    "fade_duration = 0.002\n",
    "fade_size = int(smplRate*fade_duration)\n",
    "fade_in = np.linspace(0, 1, fade_size, dtype=np.float32)\n",
    "fade_out = np.linspace(1, 0, fade_size, dtype=np.float32)\n",
    "\n",
    "def make_tone(fundamental, harmonics_ratios):\n",
    "    ft2p = fundamental * t2p\n",
    "    sound = np.sin(ft2p)\n",
    "    j = 2\n",
    "    for harmonic_ratio in harmonics_ratios:\n",
    "        sound += np.sin(ft2p * harmonic_ratio)/j\n",
    "        j += 2\n",
    "    sound[:fade_size] *= fade_in\n",
    "    sound[-fade_size:] *= fade_out\n",
    "    return sound/10"
   ]
  },
  {
   "cell_type": "code",
   "execution_count": 25,
   "metadata": {},
   "outputs": [
    {
     "name": "stderr",
     "output_type": "stream",
     "text": [
      "This process is not trusted! Input event monitoring will not be possible until it is added to accessibility clients.\n"
     ]
    }
   ],
   "source": [
    "# set keyboard layout\n",
    "\n",
    "from pynput import keyboard\n",
    "\n",
    "keyboard_layout = []\n",
    "def on_press(key):\n",
    "    if key == keyboard.Key.esc:\n",
    "        # Stop listener\n",
    "        return False\n",
    "    try:\n",
    "        keyboard_layout.append(key.char)\n",
    "    except AttributeError:\n",
    "        print('special key {0} pressed'.format(\n",
    "            key))\n",
    "with keyboard.Listener(on_press=on_press) as listener:\n",
    "    listener.join()"
   ]
  },
  {
   "cell_type": "code",
   "execution_count": 28,
   "metadata": {},
   "outputs": [],
   "source": [
    "# open audio\n",
    "import pyaudio\n",
    "\n",
    "position = 0\n",
    "\n",
    "def callback(in_data, frame_count, time_info, status):\n",
    "    # If len(data) is less than requested frame_count, PyAudio automatically\n",
    "    # assumes the stream is finished, and the stream stops.\n",
    "    global position\n",
    "    if timeline.size >= (position + frame_count):\n",
    "        data = timeline[position:position+frame_count].copy()\n",
    "        # timeline[position:position+frame_count] = 0\n",
    "        position += frame_count\n",
    "    else:\n",
    "        data = timeline[position:].copy()\n",
    "        # timeline[position:] = 0\n",
    "        position += frame_count\n",
    "        position -= timeline.size\n",
    "        data = np.append(data, timeline[:position])\n",
    "        # timeline[:position] = 0\n",
    "    return (data, pyaudio.paContinue)\n",
    "\n",
    "paud = pyaudio.PyAudio()\n",
    "stream = paud.open(\n",
    "            format=pyaudio.paFloat32,\n",
    "            channels=1,\n",
    "            rate=smplRate,\n",
    "            output=True,\n",
    "            stream_callback=callback\n",
    "            )"
   ]
  },
  {
   "cell_type": "code",
   "execution_count": 30,
   "metadata": {},
   "outputs": [
    {
     "name": "stderr",
     "output_type": "stream",
     "text": [
      "This process is not trusted! Input event monitoring will not be possible until it is added to accessibility clients.\n"
     ]
    },
    {
     "name": "stdout",
     "output_type": "stream",
     "text": [
      "special key Key.esc pressed\n"
     ]
    }
   ],
   "source": [
    "# listen to keyboard\n",
    "\n",
    "streams = []\n",
    "def on_press(key):\n",
    "    try:\n",
    "        fundamental = 400 * 2**(keyboard_layout.index(key.char)/12)\n",
    "    except AttributeError:\n",
    "        print('special key {0} pressed'.format(\n",
    "            key))\n",
    "        return\n",
    "    global position\n",
    "    tone = make_tone(fundamental,[2, 3, 4, 5, 6])\n",
    "    data_size = tone.size\n",
    "    if timeline.size >= (position + data_size):\n",
    "        timeline[position:position+data_size] += tone\n",
    "    else:\n",
    "        tone.size - timeline.size\n",
    "        timeline[position:] += tone[:timeline.size-position]\n",
    "        timeline[:position+tone.size-timeline.size] += tone[timeline.size-position:]\n",
    "    \n",
    "\n",
    "def on_release(key):\n",
    "    if key == keyboard.Key.esc:\n",
    "        # Stop listener\n",
    "        stream.close()\n",
    "        paud.terminate()\n",
    "        return False\n",
    "\n",
    "# Collect events until released\n",
    "with keyboard.Listener(\n",
    "        on_press=on_press,\n",
    "        on_release=on_release) as listener:\n",
    "    listener.join()\n",
    "\n",
    "\n",
    "\n",
    "# ...or, in a non-blocking fashion:\n",
    "# listener = keyboard.Listener(\n",
    "#     on_press=on_press,\n",
    "#     on_release=on_release)\n",
    "# listener.start()"
   ]
  },
  {
   "cell_type": "code",
   "execution_count": 22,
   "metadata": {},
   "outputs": [
    {
     "data": {
      "text/plain": [
       "[<matplotlib.lines.Line2D at 0x1323f83d0>]"
      ]
     },
     "execution_count": 22,
     "metadata": {},
     "output_type": "execute_result"
    },
    {
     "data": {
      "image/png": "[encoded data removed]",
      "text/plain": [
       "<Figure size 640x480 with 1 Axes>"
      ]
     },
     "metadata": {},
     "output_type": "display_data"
    }
   ],
   "source": [
    "# frequency plot\n",
    "\n",
    "from scipy.fft import fft\n",
    "import matplotlib.pyplot as plt\n",
    "\n",
    "max_amplitude = np.iinfo(np.int16).max\n",
    "safe_amplitude = int(max_amplitude/2)\n",
    "\n",
    "plt.plot(np.abs(fft((timeline * safe_amplitude).astype(np.int16))[0:20000]))"
   ]
  },
  {
   "cell_type": "code",
   "execution_count": 21,
   "metadata": {},
   "outputs": [],
   "source": [
    "# save\n",
    "import scipy.io.wavfile\n",
    "scipy.io.wavfile.write(\"timeline.wav\",smplRate,(timeline * safe_amplitude).astype(np.int16))"
   ]
  },
  {
   "cell_type": "code",
   "execution_count": 15,
   "metadata": {},
   "outputs": [],
   "source": [
    "# closing audio in case of emergency\n",
    "stream.close()\n",
    "paud.terminate()"
   ]
  },
  {
   "cell_type": "code",
   "execution_count": 29,
   "metadata": {},
   "outputs": [],
   "source": [
    "timeline = np.zeros(timeline_duration * smplRate, dtype = np.float32)"
   ]
  },
  {
   "cell_type": "markdown",
   "metadata": {},
   "source": []
  }
 ],
 "metadata": {
  "kernelspec": {
   "display_name": "env",
   "language": "python",
   "name": "python3"
  },
  "language_info": {
   "codemirror_mode": {
    "name": "ipython",
    "version": 3
   },
   "file_extension": ".py",
   "mimetype": "text/x-python",
   "name": "python",
   "nbconvert_exporter": "python",
   "pygments_lexer": "ipython3",
   "version": "3.11.2"
  },
  "orig_nbformat": 4
 },
 "nbformat": 4,
 "nbformat_minor": 2
}
