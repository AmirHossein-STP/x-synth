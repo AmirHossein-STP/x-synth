{
 "cells": [
  {
   "cell_type": "code",
   "execution_count": 2,
   "metadata": {},
   "outputs": [
    {
     "name": "stdout",
     "output_type": "stream",
     "text": [
      "complete left to right loaded as keyboard layout successfully.\n"
     ]
    }
   ],
   "source": [
    "# init\n",
    "from os import path\n",
    "import numpy as np\n",
    "from pynput import keyboard\n",
    "from pedalboard import Pedalboard, Chorus, Reverb\n",
    "from pedalboard.io import AudioFile\n",
    "from keyboard_layout import KeyboardLayout\n",
    "from tone import Tone\n",
    "from audio_player import AudioPlayer\n",
    "from time_going import Timeline\n",
    "\n",
    "smplRate = 44100\n",
    "\n",
    "board = Pedalboard([Chorus(), Reverb(room_size=0.25)])\n",
    "\n",
    "keyboard_layout = KeyboardLayout()\n",
    "keyboard_layout.load('complete left to right')\n"
   ]
  },
  {
   "cell_type": "code",
   "execution_count": 3,
   "metadata": {},
   "outputs": [],
   "source": [
    "tonemaker_1 = Tone(harmonics = [(2,2),(2.4,2.2),(2.7,2.6),(3.3,3),(4,4)])\n",
    "\n",
    "def scaling_1(point):\n",
    "    return 40 * 2**(point/12)\n",
    "\n",
    "def scaling_2(point):\n",
    "    scale = [2,2,1,2,2,2,1]\n",
    "    result = 1\n",
    "    for i in range(point):\n",
    "        result += scale[i%len(scale)]\n",
    "    return result\n",
    "\n",
    "def finsl_scaling(x):\n",
    "    return scaling_1(scaling_2(x))\n",
    "\n"
   ]
  },
  {
   "cell_type": "code",
   "execution_count": 4,
   "metadata": {},
   "outputs": [],
   "source": [
    "timeline = Timeline(IS_LOOPED = True)"
   ]
  },
  {
   "cell_type": "code",
   "execution_count": 5,
   "metadata": {},
   "outputs": [],
   "source": [
    "audioplayer = AudioPlayer(timeline,board)\n",
    "audioplayer.start()"
   ]
  },
  {
   "cell_type": "code",
   "execution_count": 6,
   "metadata": {},
   "outputs": [
    {
     "name": "stdout",
     "output_type": "stream",
     "text": [
      "started...\n"
     ]
    },
    {
     "name": "stderr",
     "output_type": "stream",
     "text": [
      "This process is not trusted! Input event monitoring will not be possible until it is added to accessibility clients.\n"
     ]
    },
    {
     "name": "stdout",
     "output_type": "stream",
     "text": [
      "stoped.\n"
     ]
    }
   ],
   "source": [
    "keyboard_layout.start(finsl_scaling, audioplayer, tonemaker_1, timeline)"
   ]
  },
  {
   "cell_type": "code",
   "execution_count": 10,
   "metadata": {},
   "outputs": [],
   "source": [
    "# closing audio in case of emergency\n",
    "audioplayer.stop()"
   ]
  },
  {
   "cell_type": "code",
   "execution_count": 11,
   "metadata": {},
   "outputs": [],
   "source": [
    "timeline.clear()"
   ]
  },
  {
   "cell_type": "code",
   "execution_count": 5,
   "metadata": {},
   "outputs": [
    {
     "name": "stdout",
     "output_type": "stream",
     "text": [
      "didn't save.\n"
     ]
    },
    {
     "name": "stdout",
     "output_type": "stream",
     "text": [
      "stoped.\n"
     ]
    }
   ],
   "source": [
    "timeline.save()"
   ]
  },
  {
   "cell_type": "code",
   "execution_count": 5,
   "metadata": {},
   "outputs": [
    {
     "name": "stdout",
     "output_type": "stream",
     "text": [
      "test1 loaded as timeline successfually.\n"
     ]
    }
   ],
   "source": [
    "timeline.load()"
   ]
  },
  {
   "attachments": {},
   "cell_type": "markdown",
   "metadata": {},
   "source": []
  },
  {
   "attachments": {},
   "cell_type": "markdown",
   "metadata": {},
   "source": []
  },
  {
   "attachments": {},
   "cell_type": "markdown",
   "metadata": {},
   "source": []
  }
 ],
 "metadata": {
  "kernelspec": {
   "display_name": "env",
   "language": "python",
   "name": "python3"
  },
  "language_info": {
   "codemirror_mode": {
    "name": "ipython",
    "version": 3
   },
   "file_extension": ".py",
   "mimetype": "text/x-python",
   "name": "python",
   "nbconvert_exporter": "python",
   "pygments_lexer": "ipython3",
   "version": "3.11.2"
  },
  "orig_nbformat": 4
 },
 "nbformat": 4,
 "nbformat_minor": 2
}
