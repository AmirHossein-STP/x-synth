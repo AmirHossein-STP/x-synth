{
 "cells": [
  {
   "cell_type": "code",
   "execution_count": 19,
   "metadata": {},
   "outputs": [],
   "source": [
    "# init\n",
    "from os import path\n",
    "import numpy as np\n",
    "from pynput import keyboard\n",
    "\n",
    "\n",
    "smplRate = 44100\n",
    "timeline_duration = 2\n",
    "timeline = np.zeros(timeline_duration * smplRate, dtype = np.float32)\n",
    "\n",
    "\n",
    "# make tone\n",
    "t0 = .0\n",
    "duration = 0.2\n",
    "t = np.array( range( int(t0*smplRate) , int((t0+duration)*smplRate) ) , dtype=\"float\") / smplRate\n",
    "t2p = t * 2 * np.pi\n",
    "\n",
    "fade_duration = 0.002\n",
    "fade_size = int(smplRate*fade_duration)\n",
    "fade_in = np.linspace(0, 1, fade_size, dtype=np.float32)\n",
    "fade_out = np.linspace(1, 0, fade_size, dtype=np.float32)\n",
    "\n",
    "def make_tone(fundamental, harmonics):\n",
    "    ft2p = fundamental * t2p\n",
    "    sound = np.sin(ft2p)\n",
    "    for harmonic in harmonics:\n",
    "        harmonic_ratios = harmonic[0]\n",
    "        harmonic_ratios_level = harmonic[1]\n",
    "        sound += np.sin(ft2p * harmonic_ratios)/harmonic_ratios_level\n",
    "    sound[:fade_size] *= fade_in\n",
    "    sound[-fade_size:] *= fade_out\n",
    "    return sound/10"
   ]
  },
  {
   "cell_type": "code",
   "execution_count": null,
   "metadata": {},
   "outputs": [
    {
     "name": "stderr",
     "output_type": "stream",
     "text": [
      "This process is not trusted! Input event monitoring will not be possible until it is added to accessibility clients.\n"
     ]
    },
    {
     "name": "stdout",
     "output_type": "stream",
     "text": [
      "I didn't save the file.\n"
     ]
    }
   ],
   "source": [
    "# reset keyboard layout\n",
    "temp_keyboard_layout = []\n",
    "def on_press(key):\n",
    "    if key == keyboard.Key.esc:\n",
    "        # Stop listener\n",
    "        return False\n",
    "    try:\n",
    "        temp_keyboard_layout.append(key.char)\n",
    "    except AttributeError:\n",
    "        print('special key {0} pressed'.format(\n",
    "            key))\n",
    "with keyboard.Listener(on_press=on_press) as listener:\n",
    "    listener.join()\n",
    "\n",
    "new_file_name = input('enter your new keyboar layout name')\n",
    "if not new_file_name:\n",
    "    print(\"I didn't save the file.\")\n",
    "else:\n",
    "    file_address = path.join('database/keyboard_layouts/' , new_file_name + '.txt')\n",
    "    with open(file_address,'w') as file:\n",
    "        file.writelines(temp_keyboard_layout)\n",
    "        print(new_file_name + \" saved as keyboard layout successfully.\")"
   ]
  },
  {
   "cell_type": "code",
   "execution_count": 21,
   "metadata": {},
   "outputs": [
    {
     "name": "stdout",
     "output_type": "stream",
     "text": [
      "complete left to right loaded as keyboard layout successfully.\n"
     ]
    }
   ],
   "source": [
    "# load saved keyboard layout\n",
    "new_file_name = input('enter your keyboar layout name')\n",
    "file_address = path.join('database/keyboard_layouts/' , new_file_name + '.txt')\n",
    "with open(file_address,'r') as file:\n",
    "    keyboard_layout = list(file.readlines()[0])\n",
    "    print(new_file_name + \" loaded as keyboard layout successfully.\")"
   ]
  },
  {
   "cell_type": "code",
   "execution_count": 28,
   "metadata": {},
   "outputs": [],
   "source": [
    "IS_LOOPED = True\n",
    "harmonics = [(1.5,1),(2.2,2),(3.5,3)]\n",
    "def scaling_1(point):\n",
    "    return 200 * 2**(point/12)\n",
    "def scaling_2(point):\n",
    "    scale = [2,2,1,2,2,2,1]\n",
    "    result = 1\n",
    "    for i in range(point):\n",
    "        result += scale[i%len(scale)]\n",
    "    return result"
   ]
  },
  {
   "cell_type": "code",
   "execution_count": 29,
   "metadata": {},
   "outputs": [
    {
     "name": "stdout",
     "output_type": "stream",
     "text": [
      "started...\n"
     ]
    },
    {
     "name": "stderr",
     "output_type": "stream",
     "text": [
      "This process is not trusted! Input event monitoring will not be possible until it is added to accessibility clients.\n"
     ]
    },
    {
     "name": "stdout",
     "output_type": "stream",
     "text": [
      "stoped.\n"
     ]
    }
   ],
   "source": [
    "# open audio\n",
    "import pyaudio\n",
    "\n",
    "position = 0\n",
    "\n",
    "def callback(in_data, frame_count, time_info, status):\n",
    "    # If len(data) is less than requested frame_count, PyAudio automatically\n",
    "    # assumes the stream is finished, and the stream stops.\n",
    "    global position\n",
    "    if timeline.size >= (position + frame_count):\n",
    "        data = timeline[position:position+frame_count].copy()\n",
    "        if not IS_LOOPED:\n",
    "            timeline[position:position+frame_count] = 0\n",
    "        position += frame_count\n",
    "    else:\n",
    "        data = timeline[position:].copy()\n",
    "        if not IS_LOOPED:\n",
    "            timeline[position:] = 0\n",
    "        position += frame_count\n",
    "        position -= timeline.size\n",
    "        data = np.append(data, timeline[:position])\n",
    "        if not IS_LOOPED:\n",
    "            timeline[:position] = 0\n",
    "    return (data, pyaudio.paContinue)\n",
    "\n",
    "paud = pyaudio.PyAudio()\n",
    "stream = paud.open(\n",
    "            format=pyaudio.paFloat32,\n",
    "            channels=1,\n",
    "            rate=smplRate,\n",
    "            output=True,\n",
    "            stream_callback=callback\n",
    "            )\n",
    "\n",
    "\n",
    "\n",
    "# listen to keyboard\n",
    "streams = []\n",
    "def on_press(key):\n",
    "    try:\n",
    "        fundamental = scaling_1(scaling_2(keyboard_layout.index(key.char)))\n",
    "    except AttributeError:\n",
    "        # print('special key {0} pressed'.format(\n",
    "        #     key))\n",
    "        return\n",
    "    global position\n",
    "    tone = make_tone(fundamental,harmonics)\n",
    "    data_size = tone.size\n",
    "    if timeline.size >= (position + data_size):\n",
    "        timeline[position:position+data_size] += tone\n",
    "    else:\n",
    "        tone.size - timeline.size\n",
    "        timeline[position:] += tone[:timeline.size-position]\n",
    "        timeline[:position+tone.size-timeline.size] += tone[timeline.size-position:]\n",
    "    \n",
    "def on_release(key):\n",
    "    if key == keyboard.Key.esc:\n",
    "        # Stop listener\n",
    "        stream.close()\n",
    "        paud.terminate()\n",
    "        print(\"stoped.\")\n",
    "        return False\n",
    "\n",
    "# Collect events until released\n",
    "# with keyboard.Listener(\n",
    "#         on_press=on_press,\n",
    "#         on_release=on_release) as listener:\n",
    "#     listener.join()\n",
    "\n",
    "# ...or, in a non-blocking fashion:\n",
    "listener = keyboard.Listener(\n",
    "    on_press=on_press,\n",
    "    on_release=on_release)\n",
    "listener.start()\n",
    "print(\"started...\")"
   ]
  },
  {
   "cell_type": "code",
   "execution_count": 7,
   "metadata": {},
   "outputs": [],
   "source": [
    "# closing audio in case of emergency\n",
    "stream.close()\n",
    "paud.terminate()"
   ]
  },
  {
   "cell_type": "code",
   "execution_count": 27,
   "metadata": {},
   "outputs": [],
   "source": [
    "# clear timline\n",
    "timeline = np.zeros(timeline_duration * smplRate, dtype = np.float32)"
   ]
  },
  {
   "cell_type": "code",
   "execution_count": 6,
   "metadata": {},
   "outputs": [
    {
     "name": "stdout",
     "output_type": "stream",
     "text": [
      "saved_sounds/di di di.npy\n"
     ]
    }
   ],
   "source": [
    "#save timeline\n",
    "new_file_name = input('enter your new timeline name')\n",
    "file_address = path.join('database/saved_sounds/' , new_file_name + '.npy')\n",
    "with open(file_address,'wb') as file:\n",
    "    np.save(file,timeline)\n",
    "    print(new_file_name + \" saved as timeline successfully.\")\n"
   ]
  },
  {
   "cell_type": "code",
   "execution_count": 9,
   "metadata": {},
   "outputs": [],
   "source": [
    "#load timeline\n",
    "new_file_name = input('enter your timeline name')\n",
    "file_address = path.join('database/saved_sounds/' , new_file_name + '.npy')\n",
    "with open(file_address,'rb') as file:\n",
    "    timeline += np.load(file)\n",
    "    print(new_file_name + \" loaded as timeline successfully.\")"
   ]
  },
  {
   "attachments": {},
   "cell_type": "markdown",
   "metadata": {},
   "source": []
  }
 ],
 "metadata": {
  "kernelspec": {
   "display_name": "env",
   "language": "python",
   "name": "python3"
  },
  "language_info": {
   "codemirror_mode": {
    "name": "ipython",
    "version": 3
   },
   "file_extension": ".py",
   "mimetype": "text/x-python",
   "name": "python",
   "nbconvert_exporter": "python",
   "pygments_lexer": "ipython3",
   "version": "3.11.2"
  },
  "orig_nbformat": 4
 },
 "nbformat": 4,
 "nbformat_minor": 2
}
