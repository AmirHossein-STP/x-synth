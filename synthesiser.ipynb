{
 "cells": [
  {
   "cell_type": "code",
   "execution_count": 1,
   "metadata": {},
   "outputs": [
    {
     "name": "stdout",
     "output_type": "stream",
     "text": [
      "complete left to right loaded as keyboard layout successfully.\n"
     ]
    }
   ],
   "source": [
    "# init\n",
    "from os import path\n",
    "import numpy as np\n",
    "from pynput import keyboard\n",
    "from pedalboard import Pedalboard, Chorus, Reverb\n",
    "from pedalboard.io import AudioFile\n",
    "import music21\n",
    "from keyboard_layout import KeyboardLayout\n",
    "from tone import Tone\n",
    "from audio_player import AudioPlayer\n",
    "from time_going import Timeline\n",
    "\n",
    "smplRate = 44100\n",
    "\n",
    "board = Pedalboard([Chorus(), Reverb(room_size=0.25)])\n",
    "\n",
    "keyboard_layout = KeyboardLayout()\n",
    "keyboard_layout.load('complete left to right')\n"
   ]
  },
  {
   "cell_type": "code",
   "execution_count": 43,
   "metadata": {},
   "outputs": [
    {
     "name": "stdout",
     "output_type": "stream",
     "text": [
      "[(2.1, 1), (3.2411975291572204, 1), (4.41, 1), (5.599767983546668, 1), (6.806514811230163, 1), (8.027566705613907, 1), (9.261000000000001, 1), (10.50536142301487, 1)]\n"
     ]
    }
   ],
   "source": [
    "\n",
    "harmonics = [(np.power(2.1,np.log2(i)),1) for i in range(2,10)]\n",
    "print(harmonics)\n",
    "tonemaker_1 = Tone(harmonics = harmonics, fade_duration = 0.06)\n",
    "\n",
    "def scaling_1(point):\n",
    "    return 40 * np.power(2.1,point/12)\n",
    "\n",
    "def scaling_2(point):\n",
    "    scale = [2,2,1,2,2,2,1]\n",
    "    result = 1\n",
    "    for i in range(point):\n",
    "        result += scale[i%len(scale)]\n",
    "    return result\n",
    "\n",
    "def final_scaling(x):\n",
    "    return scaling_1(scaling_2(x))\n",
    "\n"
   ]
  },
  {
   "cell_type": "code",
   "execution_count": 3,
   "metadata": {},
   "outputs": [],
   "source": [
    "timeline = Timeline(IS_LOOPED = False)"
   ]
  },
  {
   "cell_type": "code",
   "execution_count": 4,
   "metadata": {},
   "outputs": [],
   "source": [
    "audioplayer = AudioPlayer(timeline,board)\n",
    "audioplayer.start()"
   ]
  },
  {
   "cell_type": "code",
   "execution_count": 44,
   "metadata": {},
   "outputs": [
    {
     "name": "stdout",
     "output_type": "stream",
     "text": [
      "started...\n"
     ]
    },
    {
     "name": "stderr",
     "output_type": "stream",
     "text": [
      "This process is not trusted! Input event monitoring will not be possible until it is added to accessibility clients.\n"
     ]
    },
    {
     "name": "stdout",
     "output_type": "stream",
     "text": [
      "stoped.\n"
     ]
    }
   ],
   "source": [
    "keyboard_layout.start(final_scaling, audioplayer, tonemaker_1, timeline)"
   ]
  },
  {
   "cell_type": "code",
   "execution_count": 37,
   "metadata": {},
   "outputs": [
    {
     "name": "stdout",
     "output_type": "stream",
     "text": [
      "[5, 20, 24, 29] 1.0\n",
      "[17, 20, 24, 29] 1.0\n",
      "[15, 20, 24, 29] 1.0\n",
      "[14, 22, 29] 1.0\n",
      "[15, 22, 27, 31] 1.0\n",
      "[10, 22, 27, 31] 1.0\n",
      "[13, 22, 27, 31] 1.0\n",
      "[12, 20, 27, 32] 1.0\n",
      "[8, 24, 27, 31] 1.0\n",
      "[13, 20, 25, 29] 1.0\n",
      "[8, 20, 24, 27] 3.0\n",
      "[8, 24, 27, 32] 1.0\n",
      "[20, 24, 27, 32] 1.0\n",
      "[19, 24, 28, 34] 1.0\n",
      "[17, 24, 29, 32] 1.0\n",
      "[14, 22, 29, 32] 1.0\n",
      "[15, 22, 27, 31] 1.0\n",
      "[8, 24, 27, 32] 2.0\n"
     ]
    },
    {
     "ename": "KeyboardInterrupt",
     "evalue": "",
     "output_type": "error",
     "traceback": [
      "\u001b[0;31m---------------------------------------------------------------------------\u001b[0m",
      "\u001b[0;31mKeyboardInterrupt\u001b[0m                         Traceback (most recent call last)",
      "Cell \u001b[0;32mIn[37], line 17\u001b[0m\n\u001b[1;32m     15\u001b[0m         tone \u001b[39m=\u001b[39m tonemaker_1\u001b[39m.\u001b[39mmake(fundamental)\u001b[39m/\u001b[39m\u001b[39m10\u001b[39m\n\u001b[1;32m     16\u001b[0m         timeline\u001b[39m.\u001b[39madd(tone, position)\n\u001b[0;32m---> 17\u001b[0m     time\u001b[39m.\u001b[39msleep(chord\u001b[39m.\u001b[39mduration\u001b[39m.\u001b[39mquarterLength\u001b[39m/\u001b[39m\u001b[39m2\u001b[39m)\n\u001b[1;32m     19\u001b[0m     \u001b[39m# i.key = k\u001b[39;00m\n\u001b[1;32m     20\u001b[0m \n\u001b[1;32m     21\u001b[0m \n\u001b[0;32m   (...)\u001b[0m\n\u001b[1;32m     28\u001b[0m \n\u001b[1;32m     29\u001b[0m \u001b[39m# print(s.metadata.all())\u001b[39;00m\n",
      "\u001b[0;31mKeyboardInterrupt\u001b[0m: "
     ]
    }
   ],
   "source": [
    "import time\n",
    "score = music21.corpus.parse('bach/bwv65.2.xml')\n",
    "# score.show()\n",
    "key = score.analyze('key')\n",
    "tonicPitchClass = key.tonic.pitchClass\n",
    "scoreChordify = score.chordify()\n",
    "scoreChordsFlat = scoreChordify.flatten()\n",
    "chords = scoreChordsFlat.getElementsByClass('Chord')\n",
    "for chord in chords:\n",
    "    print([(p.midi-40) for p in chord.pitches],chord.duration.quarterLength)\n",
    "    position = audioplayer.position\n",
    "\n",
    "    for p in chord.pitches:\n",
    "        fundamental = scaling_1(p.midi-20)\n",
    "        tone = tonemaker_1.make(fundamental)/10\n",
    "        timeline.add(tone, position)\n",
    "    time.sleep(chord.duration.quarterLength/2)\n",
    "    \n",
    "    # i.key = k\n",
    "\n",
    "\n",
    "    # rootPitchClass = chord.root().pitchClass\n",
    "    # diff = rootPitchClass - tonicPitchClass\n",
    "    # if(diff < 0):\n",
    "    #     diff += (11+1)\n",
    "    # print(diff)\n",
    "\n",
    "\n",
    "# print(s.metadata.all())"
   ]
  },
  {
   "cell_type": "code",
   "execution_count": 11,
   "metadata": {},
   "outputs": [
    {
     "ename": "AttributeError",
     "evalue": "'NoneType' object has no attribute 'close'",
     "output_type": "error",
     "traceback": [
      "\u001b[0;31m---------------------------------------------------------------------------\u001b[0m",
      "\u001b[0;31mAttributeError\u001b[0m                            Traceback (most recent call last)",
      "Cell \u001b[0;32mIn[11], line 2\u001b[0m\n\u001b[1;32m      1\u001b[0m \u001b[39m# closing audio in case of emergency\u001b[39;00m\n\u001b[0;32m----> 2\u001b[0m audioplayer\u001b[39m.\u001b[39;49mstop()\n",
      "File \u001b[0;32m~/projects/music_making/x-synth/audio_player.py:48\u001b[0m, in \u001b[0;36mAudioPlayer.stop\u001b[0;34m(self)\u001b[0m\n\u001b[1;32m     47\u001b[0m \u001b[39mdef\u001b[39;00m \u001b[39mstop\u001b[39m(\u001b[39mself\u001b[39m):\n\u001b[0;32m---> 48\u001b[0m     \u001b[39mself\u001b[39;49m\u001b[39m.\u001b[39;49mstream\u001b[39m.\u001b[39;49mclose()\n\u001b[1;32m     49\u001b[0m     \u001b[39mself\u001b[39m\u001b[39m.\u001b[39mpaud\u001b[39m.\u001b[39mterminate()\n",
      "\u001b[0;31mAttributeError\u001b[0m: 'NoneType' object has no attribute 'close'"
     ]
    }
   ],
   "source": [
    "# closing audio in case of emergency\n",
    "audioplayer.stop()"
   ]
  },
  {
   "cell_type": "code",
   "execution_count": 24,
   "metadata": {},
   "outputs": [],
   "source": [
    "timeline.clear()"
   ]
  },
  {
   "cell_type": "code",
   "execution_count": 5,
   "metadata": {},
   "outputs": [
    {
     "name": "stdout",
     "output_type": "stream",
     "text": [
      "didn't save.\n"
     ]
    },
    {
     "name": "stdout",
     "output_type": "stream",
     "text": [
      "stoped.\n"
     ]
    }
   ],
   "source": [
    "timeline.save()"
   ]
  },
  {
   "cell_type": "code",
   "execution_count": 5,
   "metadata": {},
   "outputs": [
    {
     "name": "stdout",
     "output_type": "stream",
     "text": [
      "test1 loaded as timeline successfually.\n"
     ]
    }
   ],
   "source": [
    "timeline.load()"
   ]
  },
  {
   "attachments": {},
   "cell_type": "markdown",
   "metadata": {},
   "source": []
  },
  {
   "attachments": {},
   "cell_type": "markdown",
   "metadata": {},
   "source": []
  },
  {
   "attachments": {},
   "cell_type": "markdown",
   "metadata": {},
   "source": []
  }
 ],
 "metadata": {
  "kernelspec": {
   "display_name": "env",
   "language": "python",
   "name": "python3"
  },
  "language_info": {
   "codemirror_mode": {
    "name": "ipython",
    "version": 3
   },
   "file_extension": ".py",
   "mimetype": "text/x-python",
   "name": "python",
   "nbconvert_exporter": "python",
   "pygments_lexer": "ipython3",
   "version": "3.11.2"
  },
  "orig_nbformat": 4
 },
 "nbformat": 4,
 "nbformat_minor": 2
}
